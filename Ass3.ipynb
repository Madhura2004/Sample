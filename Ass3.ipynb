{
 "cells": [
  {
   "cell_type": "code",
   "execution_count": 1,
   "id": "600269b0-acb9-42e4-a5bf-ad3d4671247d",
   "metadata": {},
   "outputs": [],
   "source": [
    "import pandas as pd\n",
    "import numpy as np"
   ]
  },
  {
   "cell_type": "code",
   "execution_count": 2,
   "id": "1e8bc773-cb9a-44b1-9330-4f5d88c8287e",
   "metadata": {},
   "outputs": [
    {
     "data": {
      "text/html": [
       "<div>\n",
       "<style scoped>\n",
       "    .dataframe tbody tr th:only-of-type {\n",
       "        vertical-align: middle;\n",
       "    }\n",
       "\n",
       "    .dataframe tbody tr th {\n",
       "        vertical-align: top;\n",
       "    }\n",
       "\n",
       "    .dataframe thead th {\n",
       "        text-align: right;\n",
       "    }\n",
       "</style>\n",
       "<table border=\"1\" class=\"dataframe\">\n",
       "  <thead>\n",
       "    <tr style=\"text-align: right;\">\n",
       "      <th></th>\n",
       "      <th>Id</th>\n",
       "      <th>SepalLengthCm</th>\n",
       "      <th>SepalWidthCm</th>\n",
       "      <th>PetalLengthCm</th>\n",
       "      <th>PetalWidthCm</th>\n",
       "      <th>Species</th>\n",
       "    </tr>\n",
       "  </thead>\n",
       "  <tbody>\n",
       "    <tr>\n",
       "      <th>0</th>\n",
       "      <td>1</td>\n",
       "      <td>5.1</td>\n",
       "      <td>3.5</td>\n",
       "      <td>1.4</td>\n",
       "      <td>0.2</td>\n",
       "      <td>Iris-setosa</td>\n",
       "    </tr>\n",
       "    <tr>\n",
       "      <th>1</th>\n",
       "      <td>2</td>\n",
       "      <td>4.9</td>\n",
       "      <td>3.0</td>\n",
       "      <td>1.4</td>\n",
       "      <td>0.2</td>\n",
       "      <td>Iris-setosa</td>\n",
       "    </tr>\n",
       "    <tr>\n",
       "      <th>2</th>\n",
       "      <td>3</td>\n",
       "      <td>4.7</td>\n",
       "      <td>3.2</td>\n",
       "      <td>1.3</td>\n",
       "      <td>0.2</td>\n",
       "      <td>Iris-setosa</td>\n",
       "    </tr>\n",
       "    <tr>\n",
       "      <th>3</th>\n",
       "      <td>4</td>\n",
       "      <td>4.6</td>\n",
       "      <td>3.1</td>\n",
       "      <td>1.5</td>\n",
       "      <td>0.2</td>\n",
       "      <td>Iris-setosa</td>\n",
       "    </tr>\n",
       "    <tr>\n",
       "      <th>4</th>\n",
       "      <td>5</td>\n",
       "      <td>5.0</td>\n",
       "      <td>3.6</td>\n",
       "      <td>1.4</td>\n",
       "      <td>0.2</td>\n",
       "      <td>Iris-setosa</td>\n",
       "    </tr>\n",
       "  </tbody>\n",
       "</table>\n",
       "</div>"
      ],
      "text/plain": [
       "   Id  SepalLengthCm  SepalWidthCm  PetalLengthCm  PetalWidthCm      Species\n",
       "0   1            5.1           3.5            1.4           0.2  Iris-setosa\n",
       "1   2            4.9           3.0            1.4           0.2  Iris-setosa\n",
       "2   3            4.7           3.2            1.3           0.2  Iris-setosa\n",
       "3   4            4.6           3.1            1.5           0.2  Iris-setosa\n",
       "4   5            5.0           3.6            1.4           0.2  Iris-setosa"
      ]
     },
     "execution_count": 2,
     "metadata": {},
     "output_type": "execute_result"
    }
   ],
   "source": [
    "df = pd.read_csv(\"Iris.csv\")\n",
    "df.head()"
   ]
  },
  {
   "cell_type": "code",
   "execution_count": 4,
   "id": "beaf46dc-c2c9-4e62-9c8c-d6c969e1a747",
   "metadata": {},
   "outputs": [
    {
     "data": {
      "text/plain": [
       "Id               0\n",
       "SepalLengthCm    0\n",
       "SepalWidthCm     0\n",
       "PetalLengthCm    0\n",
       "PetalWidthCm     0\n",
       "Species          0\n",
       "dtype: int64"
      ]
     },
     "execution_count": 4,
     "metadata": {},
     "output_type": "execute_result"
    }
   ],
   "source": [
    "df.isnull().sum()"
   ]
  },
  {
   "cell_type": "code",
   "execution_count": 5,
   "id": "053532d7-918f-459c-922c-d1126674dcbe",
   "metadata": {},
   "outputs": [
    {
     "data": {
      "text/plain": [
       "(150, 6)"
      ]
     },
     "execution_count": 5,
     "metadata": {},
     "output_type": "execute_result"
    }
   ],
   "source": [
    "df.shape"
   ]
  },
  {
   "cell_type": "code",
   "execution_count": 6,
   "id": "1508d453-c0a6-435e-9b8c-76834398f678",
   "metadata": {},
   "outputs": [
    {
     "data": {
      "text/plain": [
       "Id                 int64\n",
       "SepalLengthCm    float64\n",
       "SepalWidthCm     float64\n",
       "PetalLengthCm    float64\n",
       "PetalWidthCm     float64\n",
       "Species           object\n",
       "dtype: object"
      ]
     },
     "execution_count": 6,
     "metadata": {},
     "output_type": "execute_result"
    }
   ],
   "source": [
    "df.dtypes"
   ]
  },
  {
   "cell_type": "markdown",
   "id": "058eb65d-2338-4ab9-b04a-7d8ea86fc703",
   "metadata": {},
   "source": [
    "<h3>With in-built functions</h3>"
   ]
  },
  {
   "cell_type": "code",
   "execution_count": 22,
   "id": "0d1774e2-8d2d-4ad6-a3e0-7eaa89376d8d",
   "metadata": {},
   "outputs": [
    {
     "name": "stdout",
     "output_type": "stream",
     "text": [
      "                   Mean  Median  Mode  MidRange\n",
      "Atribute                                       \n",
      "SepalLengthCm  5.843333    5.80   5.0      6.10\n",
      "SepalWidthCm   3.054000    3.00   3.0      3.20\n",
      "PetalLengthCm  3.758667    4.35   1.5      3.95\n",
      "PetalWidthCm   1.198667    1.30   0.2      1.30\n"
     ]
    }
   ],
   "source": [
    "from scipy.stats import mode\n",
    "central_tendency={}\n",
    "cols= df.select_dtypes(include=['float'])\n",
    "\n",
    "for col in cols:\n",
    "    col_data= df[col].dropna()\n",
    "    mode_val = col_data.mode()\n",
    "    central_tendency[col] = {\n",
    "        'Mean' : col_data.mean(),\n",
    "        'Median' :  col_data.median(),\n",
    "        'Mode' :  mode_val[0] if len(mode_val) > 0 else None,\n",
    "        'MidRange' : (col_data.min() + col_data.max())/2\n",
    "    }\n",
    "\n",
    "central_ten_df = pd.DataFrame(central_tendency).T\n",
    "central_ten_df.index.name = \"Atribute\"\n",
    "\n",
    "print(central_ten_df)"
   ]
  },
  {
   "cell_type": "code",
   "execution_count": 35,
   "id": "4ea7f9c7-386f-46e3-9bde-2e48fbd9b88d",
   "metadata": {},
   "outputs": [
    {
     "name": "stdout",
     "output_type": "stream",
     "text": [
      "                   Mean  Median  Mode  Midrange\n",
      "Attribute                                      \n",
      "SepalLengthCm  5.843333    5.80   5.0      6.10\n",
      "SepalWidthCm   3.054000    3.00   3.0      3.20\n",
      "PetalLengthCm  3.758667    4.35   1.5      3.95\n",
      "PetalWidthCm   1.198667    1.30   0.2      1.30\n"
     ]
    }
   ],
   "source": [
    "central_ten = {}\n",
    "cols= df.select_dtypes(include=['float'])\n",
    "\n",
    "for col in cols:\n",
    "    data =  sorted(df[col].dropna())\n",
    "    n = len(data)\n",
    "\n",
    "    freq={}\n",
    "    for val in data:\n",
    "        freq[val] = freq.get(val,0)+1\n",
    "    mode_val = max(freq, key=freq.get)\n",
    "\n",
    "    central_ten[col] = {\n",
    "        'Mean' : sum(data)/n,\n",
    "        'Median' : data[n // 2] if n%2 else (data[n // 2 - 1] + data[n // 2]) / 2,\n",
    "        'Mode' : mode_val,\n",
    "        'Midrange': (min(data) + max(data)) / 2\n",
    "    }\n",
    "\n",
    "cen_ten_df = pd.DataFrame(central_ten).T\n",
    "cen_ten_df.index.name = \"Attribute\"\n",
    "print(cen_ten_df)\n"
   ]
  },
  {
   "cell_type": "code",
   "execution_count": 42,
   "id": "933974b0-15f3-4fb7-99eb-f8add54be4af",
   "metadata": {},
   "outputs": [],
   "source": [
    "data = pd.read_csv(\"Iris.csv\")"
   ]
  },
  {
   "cell_type": "code",
   "execution_count": 43,
   "id": "a1b3954a-5663-4228-a2e8-6aec43b65a53",
   "metadata": {},
   "outputs": [
    {
     "name": "stdout",
     "output_type": "stream",
     "text": [
      "Range:\n",
      "SepalLengthCm    3.6\n",
      "SepalWidthCm     2.4\n",
      "PetalLengthCm    5.9\n",
      "PetalWidthCm     2.4\n",
      "dtype: float64\n",
      "\n",
      "Variance:\n",
      "SepalLengthCm    0.685694\n",
      "SepalWidthCm     0.188004\n",
      "PetalLengthCm    3.113179\n",
      "PetalWidthCm     0.582414\n",
      "dtype: float64\n",
      "\n",
      "Standard Deviation:\n",
      "SepalLengthCm    0.828066\n",
      "SepalWidthCm     0.433594\n",
      "PetalLengthCm    1.764420\n",
      "PetalWidthCm     0.763161\n",
      "dtype: float64\n",
      "\n",
      "Quartiles (25%, 50%, 75%):\n",
      "      SepalLengthCm  SepalWidthCm  PetalLengthCm  PetalWidthCm\n",
      "0.25            5.1           2.8           1.60           0.3\n",
      "0.50            5.8           3.0           4.35           1.3\n",
      "0.75            6.4           3.3           5.10           1.8\n"
     ]
    }
   ],
   "source": [
    "# Convert data into a DataFrame\n",
    "df = pd.DataFrame(data)\n",
    "\n",
    "# Selecting only numerical columns for calculation\n",
    "numerical_data = df[['SepalLengthCm', 'SepalWidthCm', 'PetalLengthCm', 'PetalWidthCm']]\n",
    "\n",
    "# Calculate range (difference between max and min), variance, standard deviation and quartiles\n",
    "range_values = numerical_data.max() - numerical_data.min()\n",
    "variance = numerical_data.var()\n",
    "std_deviation = numerical_data.std()\n",
    "quartiles = numerical_data.quantile([0.25, 0.5, 0.75])\n",
    "\n",
    "# Display results\n",
    "print(f\"Range:\\n{range_values}\\n\")\n",
    "print(f\"Variance:\\n{variance}\\n\")\n",
    "print(f\"Standard Deviation:\\n{std_deviation}\\n\")\n",
    "print(f\"Quartiles (25%, 50%, 75%):\\n{quartiles}\")"
   ]
  },
  {
   "cell_type": "code",
   "execution_count": 44,
   "id": "e40f8f66-7633-4d22-bbf7-59e749b4a55c",
   "metadata": {},
   "outputs": [
    {
     "name": "stdout",
     "output_type": "stream",
     "text": [
      "\n",
      "Summary Statistics for Iris Dataset (Grouped by Species):\n",
      "                SepalLengthCm                            SepalWidthCm         \\\n",
      "                         mean median  min  max       std         mean median   \n",
      "Species                                                                        \n",
      "Iris-setosa             5.006    5.0  4.3  5.8  0.352490        3.418    3.4   \n",
      "Iris-versicolor         5.936    5.9  4.9  7.0  0.516171        2.770    2.8   \n",
      "Iris-virginica          6.588    6.5  4.9  7.9  0.635880        2.974    3.0   \n",
      "\n",
      "                                    PetalLengthCm                             \\\n",
      "                 min  max       std          mean median  min  max       std   \n",
      "Species                                                                        \n",
      "Iris-setosa      2.3  4.4  0.381024         1.464   1.50  1.0  1.9  0.173511   \n",
      "Iris-versicolor  2.0  3.4  0.313798         4.260   4.35  3.0  5.1  0.469911   \n",
      "Iris-virginica   2.2  3.8  0.322497         5.552   5.55  4.5  6.9  0.551895   \n",
      "\n",
      "                PetalWidthCm                             \n",
      "                        mean median  min  max       std  \n",
      "Species                                                  \n",
      "Iris-setosa            0.244    0.2  0.1  0.6  0.107210  \n",
      "Iris-versicolor        1.326    1.3  1.0  1.8  0.197753  \n",
      "Iris-virginica         2.026    2.0  1.4  2.5  0.274650  \n"
     ]
    }
   ],
   "source": [
    "summary_statistics = data.groupby(\"Species\").agg(\n",
    "    {\n",
    "        \"SepalLengthCm\": [\"mean\", \"median\", \"min\", \"max\", \"std\"],\n",
    "        \"SepalWidthCm\": [\"mean\", \"median\", \"min\", \"max\", \"std\"],\n",
    "        \"PetalLengthCm\": [\"mean\", \"median\", \"min\", \"max\", \"std\"],\n",
    "        \"PetalWidthCm\": [\"mean\", \"median\", \"min\", \"max\", \"std\"],\n",
    "    }\n",
    ")\n",
    "# Print nicely formatted summary statistics\n",
    "print(\"\\nSummary Statistics for Iris Dataset (Grouped by Species):\")\n",
    "print(summary_statistics)\n"
   ]
  }
 ],
 "metadata": {
  "kernelspec": {
   "display_name": "Python 3 (ipykernel)",
   "language": "python",
   "name": "python3"
  },
  "language_info": {
   "codemirror_mode": {
    "name": "ipython",
    "version": 3
   },
   "file_extension": ".py",
   "mimetype": "text/x-python",
   "name": "python",
   "nbconvert_exporter": "python",
   "pygments_lexer": "ipython3",
   "version": "3.10.5"
  }
 },
 "nbformat": 4,
 "nbformat_minor": 5
}
