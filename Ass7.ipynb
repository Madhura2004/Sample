{
 "cells": [
  {
   "cell_type": "code",
   "execution_count": 51,
   "id": "e564f44f-1388-4a58-9b01-b6cac577857e",
   "metadata": {},
   "outputs": [],
   "source": [
    "import nltk\n",
    "import math\n",
    "import string\n",
    "import pandas as pd"
   ]
  },
  {
   "cell_type": "code",
   "execution_count": 5,
   "id": "075761cc-5ac4-4469-b7d9-87de906678cb",
   "metadata": {},
   "outputs": [
    {
     "name": "stderr",
     "output_type": "stream",
     "text": [
      "[nltk_data] Downloading package punkt to\n",
      "[nltk_data]     C:\\Users\\ADVAY\\AppData\\Roaming\\nltk_data...\n",
      "[nltk_data]   Package punkt is already up-to-date!\n",
      "[nltk_data] Downloading package wordnet to\n",
      "[nltk_data]     C:\\Users\\ADVAY\\AppData\\Roaming\\nltk_data...\n",
      "[nltk_data]   Package wordnet is already up-to-date!\n",
      "[nltk_data] Downloading package stopwords to\n",
      "[nltk_data]     C:\\Users\\ADVAY\\AppData\\Roaming\\nltk_data...\n",
      "[nltk_data]   Package stopwords is already up-to-date!\n",
      "[nltk_data] Downloading package averaged_perceptron_tagger to\n",
      "[nltk_data]     C:\\Users\\ADVAY\\AppData\\Roaming\\nltk_data...\n",
      "[nltk_data]   Package averaged_perceptron_tagger is already up-to-\n",
      "[nltk_data]       date!\n"
     ]
    },
    {
     "data": {
      "text/plain": [
       "True"
      ]
     },
     "execution_count": 5,
     "metadata": {},
     "output_type": "execute_result"
    }
   ],
   "source": [
    "nltk.download('punkt')\n",
    "nltk.download('wordnet')\n",
    "nltk.download('stopwords')\n",
    "nltk.download('averaged_perceptron_tagger')"
   ]
  },
  {
   "cell_type": "code",
   "execution_count": 9,
   "id": "51ae7d3e-692b-4f1f-b211-5fde86fc4fd6",
   "metadata": {},
   "outputs": [],
   "source": [
    "from nltk.corpus import stopwords\n",
    "from nltk.tokenize import word_tokenize, sent_tokenize\n",
    "from nltk.stem import PorterStemmer, WordNetLemmatizer\n",
    "from nltk.probability import FreqDist\n",
    "from sklearn.feature_extraction.text import TfidfVectorizer"
   ]
  },
  {
   "cell_type": "code",
   "execution_count": 40,
   "id": "88c71861-2816-4db8-ade7-4572bcb9d5b5",
   "metadata": {},
   "outputs": [
    {
     "name": "stdout",
     "output_type": "stream",
     "text": [
      "\n",
      "Pune Institute of Computer Technology (PICT) was established in 1983 by a group of enterprising visionary professionals and has come a long way and marched ahead with quality education imbibed with professional and ethical values. Our mission is to be the most sought-after institute in Engineering education and research, that provides relevant knowledge, creates challenging opportunities, and inculcate values and social responsibilities. Pune Institute of Computer Technology has cut niche for itself to be one of the India’s leading institutions in higher Technical Education and Research of International repute. We celebrate the illustrious accomplishments of the past and take pride in our position as one of the top institutions of our country.\n",
      "\n",
      "At PICT, talent and ambitions come together in a culture that nourishes thinking and encourages every student to reach his or her full potential. Life at PICT is much more than the regular academic activities.  PICT campus is technically vibrant with lot of activities throughout the year, supported by professional societies like IEEE, ACM, CSI, IET. Additionally, there are clubs/groups like ROBOCON, DRONE, SIGs, BUDDYs, Automobile (electric Racing Cart), Debate, TEDx, MUN, etc. The PICT art circle is one of the top cultural groups known for its talents & achievements. The activities include but not limited to: Art, Drama, Debate, Dance, Singing, & quizzes. Our students have bagged many prestigious awards, prizes, & medals in technical, sports, and cultural events (like Microsoft Imagine Cup, Hackathons, Robocon, Purushottam Karandak, Firodiya Karandak). The students of PICT are the top achievers with big dreams and fierce drive. They are pushed to expand their thinking not only by their professors but also by the extraordinary individuals who are their peers. We wish that the student entering our institute will become holistic, responsible person contributing not only to the technocratic demands of the world but also for the betterment of the society. PICT offers three under-graduate programs in Computer Engineering, Electronics & Telecommunication Engineering, and Information Technology; and four post-graduate programs in Computer Engineering, Data Science, Electronics & Telecommunication Engineering (Wireless Communication Technology), and Information Technology. It is also a Savitribai Phule Pune University recognized research center in Computer Engineering and Electronics & Telecommunication Engineering.\n",
      "\n",
      "It gives me immense pleasure in welcoming you to SCTR’s Pune Institute of Computer Technology, a premier and a very reputed institute. Pune Institute of Computer Technology, popularly known as PICT, was established in 1983, by a group of great visionaries, Late Mr. Dr. N. Gopalkrishnan, Mr. N. Rama Krishnan and Managing Trustee Mr. Rajkumar Kothavale. The ingenious founder team and Secretary Mr. Swastik Sir continue to lead PICT in its journey of excellence.\n",
      "\n",
      "PICT, affiliated to Savitribai Phule Pune University is a pioneer in introducing Computer Engineering undergraduate program in Maharashtra state and it is recognized as the most sought-after institution, to educate young aspiring minds.\n",
      "\n",
      "PICT offers Quality Education in Engineering and Research through its undergraduate, post graduate programs in CE, E&TC and IT and its research centres in CE and E&TC department. The undergraduate programmes are consistently accredited by National Board of Accreditation (NBA). The institution is also accredited by National Assessment Accreditation Council (NAAC) and is ISO 9001:2015 certified. It is graded ‘A’ by Director of Technical Education (DTE), Maharashtra state.\n",
      "\n",
      "“Scientists study the world as it is, engineers create the world that never has been.” — Theodore von Karman\n",
      "\n",
      "With a very Visionary Management, Dedicated Director, and committed faculty members, entire PICT Family strives to nurture the young inspiring minds to create avenues for the wellbeing of the entire world. Untiring and directed efforts by PICT are focused on out-come based education and preparing them for the real world.\n",
      "\n",
      "The promotive culture and supportive ecosystem of PICT ensures excellent academic record of the students and drives their participation in numerous Co-Curricular and Extra-curricular activities. Beginning with flagship event of PICT- Impetus and Concepts, the student participation extends to various clubs and special interest groups, inculcating team spirit, professionalism, ethics, values and self-competitiveness among the students, thus, moulding them be better versions of themselves.\n"
     ]
    }
   ],
   "source": [
    "with open(\"C:/Users/ADVAY/Desktop/DSBDAL/Practical/DirMsg.txt\", \"r\",encoding=\"utf-8\") as file:\n",
    "    text1 = file.read()\n",
    "print(text1)\n",
    "\n",
    "with open(\"C:/Users/ADVAY/Desktop/DSBDAL/Practical/PrinciMsg.txt\", \"r\",encoding=\"utf-8\") as file:\n",
    "    text2 = file.read()\n",
    "print(text2)"
   ]
  },
  {
   "cell_type": "code",
   "execution_count": 41,
   "id": "63bb0a51-6787-4151-b207-39bf91738d18",
   "metadata": {},
   "outputs": [
    {
     "name": "stdout",
     "output_type": "stream",
     "text": [
      "['Pune', 'Institute', 'of', 'Computer', 'Technology', '(', 'PICT', ')', 'was', 'established', 'in', '1983', 'by', 'a', 'group', 'of', 'enterprising', 'visionary', 'professionals', 'and', 'has', 'come', 'a', 'long', 'way', 'and', 'marched', 'ahead', 'with', 'quality', 'education', 'imbibed', 'with', 'professional', 'and', 'ethical', 'values', '.', 'Our', 'mission', 'is', 'to', 'be', 'the', 'most', 'sought-after', 'institute', 'in', 'Engineering', 'education', 'and', 'research', ',', 'that', 'provides', 'relevant', 'knowledge', ',', 'creates', 'challenging', 'opportunities', ',', 'and', 'inculcate', 'values', 'and', 'social', 'responsibilities', '.', 'Pune', 'Institute', 'of', 'Computer', 'Technology', 'has', 'cut', 'niche', 'for', 'itself', 'to', 'be', 'one', 'of', 'the', 'India', '’', 's', 'leading', 'institutions', 'in', 'higher', 'Technical', 'Education', 'and', 'Research', 'of', 'International', 'repute', '.', 'We', 'celebrate', 'the', 'illustrious', 'accomplishments', 'of', 'the', 'past', 'and', 'take', 'pride', 'in', 'our', 'position', 'as', 'one', 'of', 'the', 'top', 'institutions', 'of', 'our', 'country', '.', 'At', 'PICT', ',', 'talent', 'and', 'ambitions', 'come', 'together', 'in', 'a', 'culture', 'that', 'nourishes', 'thinking', 'and', 'encourages', 'every', 'student', 'to', 'reach', 'his', 'or', 'her', 'full', 'potential', '.', 'Life', 'at', 'PICT', 'is', 'much', 'more', 'than', 'the', 'regular', 'academic', 'activities', '.', 'PICT', 'campus', 'is', 'technically', 'vibrant', 'with', 'lot', 'of', 'activities', 'throughout', 'the', 'year', ',', 'supported', 'by', 'professional', 'societies', 'like', 'IEEE', ',', 'ACM', ',', 'CSI', ',', 'IET', '.', 'Additionally', ',', 'there', 'are', 'clubs/groups', 'like', 'ROBOCON', ',', 'DRONE', ',', 'SIGs', ',', 'BUDDYs', ',', 'Automobile', '(', 'electric', 'Racing', 'Cart', ')', ',', 'Debate', ',', 'TEDx', ',', 'MUN', ',', 'etc', '.', 'The', 'PICT', 'art', 'circle', 'is', 'one', 'of', 'the', 'top', 'cultural', 'groups', 'known', 'for', 'its', 'talents', '&', 'achievements', '.', 'The', 'activities', 'include', 'but', 'not', 'limited', 'to', ':', 'Art', ',', 'Drama', ',', 'Debate', ',', 'Dance', ',', 'Singing', ',', '&', 'quizzes', '.', 'Our', 'students', 'have', 'bagged', 'many', 'prestigious', 'awards', ',', 'prizes', ',', '&', 'medals', 'in', 'technical', ',', 'sports', ',', 'and', 'cultural', 'events', '(', 'like', 'Microsoft', 'Imagine', 'Cup', ',', 'Hackathons', ',', 'Robocon', ',', 'Purushottam', 'Karandak', ',', 'Firodiya', 'Karandak', ')', '.', 'The', 'students', 'of', 'PICT', 'are', 'the', 'top', 'achievers', 'with', 'big', 'dreams', 'and', 'fierce', 'drive', '.', 'They', 'are', 'pushed', 'to', 'expand', 'their', 'thinking', 'not', 'only', 'by', 'their', 'professors', 'but', 'also', 'by', 'the', 'extraordinary', 'individuals', 'who', 'are', 'their', 'peers', '.', 'We', 'wish', 'that', 'the', 'student', 'entering', 'our', 'institute', 'will', 'become', 'holistic', ',', 'responsible', 'person', 'contributing', 'not', 'only', 'to', 'the', 'technocratic', 'demands', 'of', 'the', 'world', 'but', 'also', 'for', 'the', 'betterment', 'of', 'the', 'society', '.', 'PICT', 'offers', 'three', 'under-graduate', 'programs', 'in', 'Computer', 'Engineering', ',', 'Electronics', '&', 'Telecommunication', 'Engineering', ',', 'and', 'Information', 'Technology', ';', 'and', 'four', 'post-graduate', 'programs', 'in', 'Computer', 'Engineering', ',', 'Data', 'Science', ',', 'Electronics', '&', 'Telecommunication', 'Engineering', '(', 'Wireless', 'Communication', 'Technology', ')', ',', 'and', 'Information', 'Technology', '.', 'It', 'is', 'also', 'a', 'Savitribai', 'Phule', 'Pune', 'University', 'recognized', 'research', 'center', 'in', 'Computer', 'Engineering', 'and', 'Electronics', '&', 'Telecommunication', 'Engineering', '.']\n",
      "['It', 'gives', 'me', 'immense', 'pleasure', 'in', 'welcoming', 'you', 'to', 'SCTR', '’', 's', 'Pune', 'Institute', 'of', 'Computer', 'Technology', ',', 'a', 'premier', 'and', 'a', 'very', 'reputed', 'institute', '.', 'Pune', 'Institute', 'of', 'Computer', 'Technology', ',', 'popularly', 'known', 'as', 'PICT', ',', 'was', 'established', 'in', '1983', ',', 'by', 'a', 'group', 'of', 'great', 'visionaries', ',', 'Late', 'Mr.', 'Dr.', 'N.', 'Gopalkrishnan', ',', 'Mr.', 'N.', 'Rama', 'Krishnan', 'and', 'Managing', 'Trustee', 'Mr.', 'Rajkumar', 'Kothavale', '.', 'The', 'ingenious', 'founder', 'team', 'and', 'Secretary', 'Mr.', 'Swastik', 'Sir', 'continue', 'to', 'lead', 'PICT', 'in', 'its', 'journey', 'of', 'excellence', '.', 'PICT', ',', 'affiliated', 'to', 'Savitribai', 'Phule', 'Pune', 'University', 'is', 'a', 'pioneer', 'in', 'introducing', 'Computer', 'Engineering', 'undergraduate', 'program', 'in', 'Maharashtra', 'state', 'and', 'it', 'is', 'recognized', 'as', 'the', 'most', 'sought-after', 'institution', ',', 'to', 'educate', 'young', 'aspiring', 'minds', '.', 'PICT', 'offers', 'Quality', 'Education', 'in', 'Engineering', 'and', 'Research', 'through', 'its', 'undergraduate', ',', 'post', 'graduate', 'programs', 'in', 'CE', ',', 'E', '&', 'TC', 'and', 'IT', 'and', 'its', 'research', 'centres', 'in', 'CE', 'and', 'E', '&', 'TC', 'department', '.', 'The', 'undergraduate', 'programmes', 'are', 'consistently', 'accredited', 'by', 'National', 'Board', 'of', 'Accreditation', '(', 'NBA', ')', '.', 'The', 'institution', 'is', 'also', 'accredited', 'by', 'National', 'Assessment', 'Accreditation', 'Council', '(', 'NAAC', ')', 'and', 'is', 'ISO', '9001:2015', 'certified', '.', 'It', 'is', 'graded', '‘', 'A', '’', 'by', 'Director', 'of', 'Technical', 'Education', '(', 'DTE', ')', ',', 'Maharashtra', 'state', '.', '“', 'Scientists', 'study', 'the', 'world', 'as', 'it', 'is', ',', 'engineers', 'create', 'the', 'world', 'that', 'never', 'has', 'been.', '”', '—', 'Theodore', 'von', 'Karman', 'With', 'a', 'very', 'Visionary', 'Management', ',', 'Dedicated', 'Director', ',', 'and', 'committed', 'faculty', 'members', ',', 'entire', 'PICT', 'Family', 'strives', 'to', 'nurture', 'the', 'young', 'inspiring', 'minds', 'to', 'create', 'avenues', 'for', 'the', 'wellbeing', 'of', 'the', 'entire', 'world', '.', 'Untiring', 'and', 'directed', 'efforts', 'by', 'PICT', 'are', 'focused', 'on', 'out-come', 'based', 'education', 'and', 'preparing', 'them', 'for', 'the', 'real', 'world', '.', 'The', 'promotive', 'culture', 'and', 'supportive', 'ecosystem', 'of', 'PICT', 'ensures', 'excellent', 'academic', 'record', 'of', 'the', 'students', 'and', 'drives', 'their', 'participation', 'in', 'numerous', 'Co-Curricular', 'and', 'Extra-curricular', 'activities', '.', 'Beginning', 'with', 'flagship', 'event', 'of', 'PICT-', 'Impetus', 'and', 'Concepts', ',', 'the', 'student', 'participation', 'extends', 'to', 'various', 'clubs', 'and', 'special', 'interest', 'groups', ',', 'inculcating', 'team', 'spirit', ',', 'professionalism', ',', 'ethics', ',', 'values', 'and', 'self-competitiveness', 'among', 'the', 'students', ',', 'thus', ',', 'moulding', 'them', 'be', 'better', 'versions', 'of', 'themselves', '.']\n"
     ]
    }
   ],
   "source": [
    "token1 = word_tokenize(text1)\n",
    "print(token1)\n",
    "\n",
    "token2 = word_tokenize(text2)\n",
    "print(token2)"
   ]
  },
  {
   "cell_type": "code",
   "execution_count": 25,
   "id": "a9e9492e-46f7-4466-8f87-45fcc53655a6",
   "metadata": {},
   "outputs": [
    {
     "name": "stdout",
     "output_type": "stream",
     "text": [
      "[('Pune', 'NNP'), ('Institute', 'NNP'), ('of', 'IN'), ('Computer', 'NNP'), ('Technology', 'NNP'), ('(', '('), ('PICT', 'NNP'), (')', ')'), ('was', 'VBD'), ('established', 'VBN'), ('in', 'IN'), ('1983', 'CD'), ('by', 'IN'), ('a', 'DT'), ('group', 'NN'), ('of', 'IN'), ('enterprising', 'VBG'), ('visionary', 'JJ'), ('professionals', 'NNS'), ('and', 'CC'), ('has', 'VBZ'), ('come', 'VBN'), ('a', 'DT'), ('long', 'JJ'), ('way', 'NN'), ('and', 'CC'), ('marched', 'VBD'), ('ahead', 'RB'), ('with', 'IN'), ('quality', 'JJ'), ('education', 'NN'), ('imbibed', 'VBN'), ('with', 'IN'), ('professional', 'JJ'), ('and', 'CC'), ('ethical', 'JJ'), ('values', 'NNS'), ('.', '.'), ('Our', 'PRP$'), ('mission', 'NN'), ('is', 'VBZ'), ('to', 'TO'), ('be', 'VB'), ('the', 'DT'), ('most', 'RBS'), ('sought-after', 'JJ'), ('institute', 'NN'), ('in', 'IN'), ('Engineering', 'NNP'), ('education', 'NN'), ('and', 'CC'), ('research', 'NN'), (',', ','), ('that', 'WDT'), ('provides', 'VBZ'), ('relevant', 'JJ'), ('knowledge', 'NN'), (',', ','), ('creates', 'VBZ'), ('challenging', 'VBG'), ('opportunities', 'NNS'), (',', ','), ('and', 'CC'), ('inculcate', 'VB'), ('values', 'NNS'), ('and', 'CC'), ('social', 'JJ'), ('responsibilities', 'NNS'), ('.', '.'), ('Pune', 'NNP'), ('Institute', 'NNP'), ('of', 'IN'), ('Computer', 'NNP'), ('Technology', 'NNP'), ('has', 'VBZ'), ('cut', 'VBN'), ('niche', 'NN'), ('for', 'IN'), ('itself', 'PRP'), ('to', 'TO'), ('be', 'VB'), ('one', 'CD'), ('of', 'IN'), ('the', 'DT'), ('India', 'NNP'), ('’', 'NNP'), ('s', 'VBD'), ('leading', 'VBG'), ('institutions', 'NNS'), ('in', 'IN'), ('higher', 'JJR'), ('Technical', 'JJ'), ('Education', 'NNP'), ('and', 'CC'), ('Research', 'NNP'), ('of', 'IN'), ('International', 'NNP'), ('repute', 'NN'), ('.', '.'), ('We', 'PRP'), ('celebrate', 'VBP'), ('the', 'DT'), ('illustrious', 'JJ'), ('accomplishments', 'NNS'), ('of', 'IN'), ('the', 'DT'), ('past', 'JJ'), ('and', 'CC'), ('take', 'VB'), ('pride', 'NN'), ('in', 'IN'), ('our', 'PRP$'), ('position', 'NN'), ('as', 'IN'), ('one', 'CD'), ('of', 'IN'), ('the', 'DT'), ('top', 'JJ'), ('institutions', 'NNS'), ('of', 'IN'), ('our', 'PRP$'), ('country', 'NN'), ('.', '.'), ('At', 'IN'), ('PICT', 'NNP'), (',', ','), ('talent', 'NN'), ('and', 'CC'), ('ambitions', 'NNS'), ('come', 'VBP'), ('together', 'RB'), ('in', 'IN'), ('a', 'DT'), ('culture', 'NN'), ('that', 'WDT'), ('nourishes', 'VBZ'), ('thinking', 'VBG'), ('and', 'CC'), ('encourages', 'NNS'), ('every', 'DT'), ('student', 'NN'), ('to', 'TO'), ('reach', 'VB'), ('his', 'PRP$'), ('or', 'CC'), ('her', 'PRP$'), ('full', 'JJ'), ('potential', 'NN'), ('.', '.'), ('Life', 'NNP'), ('at', 'IN'), ('PICT', 'NNP'), ('is', 'VBZ'), ('much', 'RB'), ('more', 'JJR'), ('than', 'IN'), ('the', 'DT'), ('regular', 'JJ'), ('academic', 'JJ'), ('activities', 'NNS'), ('.', '.'), ('PICT', 'NNP'), ('campus', 'NN'), ('is', 'VBZ'), ('technically', 'RB'), ('vibrant', 'JJ'), ('with', 'IN'), ('lot', 'NN'), ('of', 'IN'), ('activities', 'NNS'), ('throughout', 'IN'), ('the', 'DT'), ('year', 'NN'), (',', ','), ('supported', 'VBN'), ('by', 'IN'), ('professional', 'JJ'), ('societies', 'NNS'), ('like', 'IN'), ('IEEE', 'NNP'), (',', ','), ('ACM', 'NNP'), (',', ','), ('CSI', 'NNP'), (',', ','), ('IET', 'NNP'), ('.', '.'), ('Additionally', 'RB'), (',', ','), ('there', 'EX'), ('are', 'VBP'), ('clubs/groups', 'NNS'), ('like', 'IN'), ('ROBOCON', 'NNP'), (',', ','), ('DRONE', 'NNP'), (',', ','), ('SIGs', 'NNP'), (',', ','), ('BUDDYs', 'NNP'), (',', ','), ('Automobile', 'NNP'), ('(', '('), ('electric', 'JJ'), ('Racing', 'NNP'), ('Cart', 'NNP'), (')', ')'), (',', ','), ('Debate', 'NNP'), (',', ','), ('TEDx', 'NNP'), (',', ','), ('MUN', 'NNP'), (',', ','), ('etc', 'NN'), ('.', '.'), ('The', 'DT'), ('PICT', 'NNP'), ('art', 'NN'), ('circle', 'NN'), ('is', 'VBZ'), ('one', 'CD'), ('of', 'IN'), ('the', 'DT'), ('top', 'JJ'), ('cultural', 'JJ'), ('groups', 'NNS'), ('known', 'VBN'), ('for', 'IN'), ('its', 'PRP$'), ('talents', 'NNS'), ('&', 'CC'), ('achievements', 'NNS'), ('.', '.'), ('The', 'DT'), ('activities', 'NNS'), ('include', 'VBP'), ('but', 'CC'), ('not', 'RB'), ('limited', 'JJ'), ('to', 'TO'), (':', ':'), ('Art', 'NN'), (',', ','), ('Drama', 'NNP'), (',', ','), ('Debate', 'NNP'), (',', ','), ('Dance', 'NNP'), (',', ','), ('Singing', 'NNP'), (',', ','), ('&', 'CC'), ('quizzes', 'NNS'), ('.', '.'), ('Our', 'PRP$'), ('students', 'NNS'), ('have', 'VBP'), ('bagged', 'VBN'), ('many', 'JJ'), ('prestigious', 'JJ'), ('awards', 'NNS'), (',', ','), ('prizes', 'NNS'), (',', ','), ('&', 'CC'), ('medals', 'NNS'), ('in', 'IN'), ('technical', 'JJ'), (',', ','), ('sports', 'NNS'), (',', ','), ('and', 'CC'), ('cultural', 'JJ'), ('events', 'NNS'), ('(', '('), ('like', 'IN'), ('Microsoft', 'NNP'), ('Imagine', 'NNP'), ('Cup', 'NNP'), (',', ','), ('Hackathons', 'NNP'), (',', ','), ('Robocon', 'NNP'), (',', ','), ('Purushottam', 'NNP'), ('Karandak', 'NNP'), (',', ','), ('Firodiya', 'NNP'), ('Karandak', 'NNP'), (')', ')'), ('.', '.'), ('The', 'DT'), ('students', 'NNS'), ('of', 'IN'), ('PICT', 'NNP'), ('are', 'VBP'), ('the', 'DT'), ('top', 'JJ'), ('achievers', 'NNS'), ('with', 'IN'), ('big', 'JJ'), ('dreams', 'NNS'), ('and', 'CC'), ('fierce', 'JJ'), ('drive', 'NN'), ('.', '.'), ('They', 'PRP'), ('are', 'VBP'), ('pushed', 'VBN'), ('to', 'TO'), ('expand', 'VB'), ('their', 'PRP$'), ('thinking', 'NN'), ('not', 'RB'), ('only', 'RB'), ('by', 'IN'), ('their', 'PRP$'), ('professors', 'NNS'), ('but', 'CC'), ('also', 'RB'), ('by', 'IN'), ('the', 'DT'), ('extraordinary', 'JJ'), ('individuals', 'NNS'), ('who', 'WP'), ('are', 'VBP'), ('their', 'PRP$'), ('peers', 'NNS'), ('.', '.'), ('We', 'PRP'), ('wish', 'VBP'), ('that', 'IN'), ('the', 'DT'), ('student', 'NN'), ('entering', 'VBG'), ('our', 'PRP$'), ('institute', 'NN'), ('will', 'MD'), ('become', 'VB'), ('holistic', 'JJ'), (',', ','), ('responsible', 'JJ'), ('person', 'NN'), ('contributing', 'VBG'), ('not', 'RB'), ('only', 'RB'), ('to', 'TO'), ('the', 'DT'), ('technocratic', 'JJ'), ('demands', 'NNS'), ('of', 'IN'), ('the', 'DT'), ('world', 'NN'), ('but', 'CC'), ('also', 'RB'), ('for', 'IN'), ('the', 'DT'), ('betterment', 'NN'), ('of', 'IN'), ('the', 'DT'), ('society', 'NN'), ('.', '.'), ('PICT', 'NNP'), ('offers', 'VBZ'), ('three', 'CD'), ('under-graduate', 'JJ'), ('programs', 'NNS'), ('in', 'IN'), ('Computer', 'NNP'), ('Engineering', 'NNP'), (',', ','), ('Electronics', 'NNP'), ('&', 'CC'), ('Telecommunication', 'NNP'), ('Engineering', 'NNP'), (',', ','), ('and', 'CC'), ('Information', 'NNP'), ('Technology', 'NNP'), (';', ':'), ('and', 'CC'), ('four', 'CD'), ('post-graduate', 'NN'), ('programs', 'NNS'), ('in', 'IN'), ('Computer', 'NNP'), ('Engineering', 'NNP'), (',', ','), ('Data', 'NNP'), ('Science', 'NNP'), (',', ','), ('Electronics', 'NNP'), ('&', 'CC'), ('Telecommunication', 'NNP'), ('Engineering', 'NNP'), ('(', '('), ('Wireless', 'NNP'), ('Communication', 'NNP'), ('Technology', 'NNP'), (')', ')'), (',', ','), ('and', 'CC'), ('Information', 'NNP'), ('Technology', 'NNP'), ('.', '.'), ('It', 'PRP'), ('is', 'VBZ'), ('also', 'RB'), ('a', 'DT'), ('Savitribai', 'NNP'), ('Phule', 'NNP'), ('Pune', 'NNP'), ('University', 'NNP'), ('recognized', 'VBD'), ('research', 'NN'), ('center', 'NN'), ('in', 'IN'), ('Computer', 'NNP'), ('Engineering', 'NNP'), ('and', 'CC'), ('Electronics', 'NNP'), ('&', 'CC'), ('Telecommunication', 'NNP'), ('Engineering', 'NNP'), ('.', '.')]\n",
      "[('It', 'PRP'), ('gives', 'VBZ'), ('me', 'PRP'), ('immense', 'JJ'), ('pleasure', 'NN'), ('in', 'IN'), ('welcoming', 'VBG'), ('you', 'PRP'), ('to', 'TO'), ('SCTR', 'NNP'), ('’', 'NNP'), ('s', 'VBD'), ('Pune', 'NNP'), ('Institute', 'NNP'), ('of', 'IN'), ('Computer', 'NNP'), ('Technology', 'NNP'), (',', ','), ('a', 'DT'), ('premier', 'NN'), ('and', 'CC'), ('a', 'DT'), ('very', 'RB'), ('reputed', 'JJ'), ('institute', 'NN'), ('.', '.'), ('Pune', 'NNP'), ('Institute', 'NNP'), ('of', 'IN'), ('Computer', 'NNP'), ('Technology', 'NNP'), (',', ','), ('popularly', 'RB'), ('known', 'VBN'), ('as', 'IN'), ('PICT', 'NNP'), (',', ','), ('was', 'VBD'), ('established', 'VBN'), ('in', 'IN'), ('1983', 'CD'), (',', ','), ('by', 'IN'), ('a', 'DT'), ('group', 'NN'), ('of', 'IN'), ('great', 'JJ'), ('visionaries', 'NNS'), (',', ','), ('Late', 'NNP'), ('Mr.', 'NNP'), ('Dr.', 'NNP'), ('N.', 'NNP'), ('Gopalkrishnan', 'NNP'), (',', ','), ('Mr.', 'NNP'), ('N.', 'NNP'), ('Rama', 'NNP'), ('Krishnan', 'NNP'), ('and', 'CC'), ('Managing', 'NNP'), ('Trustee', 'NNP'), ('Mr.', 'NNP'), ('Rajkumar', 'NNP'), ('Kothavale', 'NNP'), ('.', '.'), ('The', 'DT'), ('ingenious', 'JJ'), ('founder', 'NN'), ('team', 'NN'), ('and', 'CC'), ('Secretary', 'NNP'), ('Mr.', 'NNP'), ('Swastik', 'NNP'), ('Sir', 'NNP'), ('continue', 'VBP'), ('to', 'TO'), ('lead', 'VB'), ('PICT', 'NNP'), ('in', 'IN'), ('its', 'PRP$'), ('journey', 'NN'), ('of', 'IN'), ('excellence', 'NN'), ('.', '.'), ('PICT', 'NNP'), (',', ','), ('affiliated', 'VBD'), ('to', 'TO'), ('Savitribai', 'NNP'), ('Phule', 'NNP'), ('Pune', 'NNP'), ('University', 'NNP'), ('is', 'VBZ'), ('a', 'DT'), ('pioneer', 'NN'), ('in', 'IN'), ('introducing', 'VBG'), ('Computer', 'NNP'), ('Engineering', 'NNP'), ('undergraduate', 'JJ'), ('program', 'NN'), ('in', 'IN'), ('Maharashtra', 'NNP'), ('state', 'NN'), ('and', 'CC'), ('it', 'PRP'), ('is', 'VBZ'), ('recognized', 'VBN'), ('as', 'IN'), ('the', 'DT'), ('most', 'RBS'), ('sought-after', 'JJ'), ('institution', 'NN'), (',', ','), ('to', 'TO'), ('educate', 'VB'), ('young', 'JJ'), ('aspiring', 'VBG'), ('minds', 'NNS'), ('.', '.'), ('PICT', 'NNP'), ('offers', 'VBZ'), ('Quality', 'NNP'), ('Education', 'NNP'), ('in', 'IN'), ('Engineering', 'NNP'), ('and', 'CC'), ('Research', 'NNP'), ('through', 'IN'), ('its', 'PRP$'), ('undergraduate', 'NN'), (',', ','), ('post', 'NN'), ('graduate', 'NN'), ('programs', 'NNS'), ('in', 'IN'), ('CE', 'NNP'), (',', ','), ('E', 'NNP'), ('&', 'CC'), ('TC', 'NNP'), ('and', 'CC'), ('IT', 'NNP'), ('and', 'CC'), ('its', 'PRP$'), ('research', 'NN'), ('centres', 'NNS'), ('in', 'IN'), ('CE', 'NNP'), ('and', 'CC'), ('E', 'NNP'), ('&', 'CC'), ('TC', 'NNP'), ('department', 'NN'), ('.', '.'), ('The', 'DT'), ('undergraduate', 'JJ'), ('programmes', 'NNS'), ('are', 'VBP'), ('consistently', 'RB'), ('accredited', 'VBN'), ('by', 'IN'), ('National', 'NNP'), ('Board', 'NNP'), ('of', 'IN'), ('Accreditation', 'NNP'), ('(', '('), ('NBA', 'NNP'), (')', ')'), ('.', '.'), ('The', 'DT'), ('institution', 'NN'), ('is', 'VBZ'), ('also', 'RB'), ('accredited', 'VBN'), ('by', 'IN'), ('National', 'NNP'), ('Assessment', 'NNP'), ('Accreditation', 'NNP'), ('Council', 'NNP'), ('(', '('), ('NAAC', 'NNP'), (')', ')'), ('and', 'CC'), ('is', 'VBZ'), ('ISO', 'NNP'), ('9001:2015', 'CD'), ('certified', 'VBD'), ('.', '.'), ('It', 'PRP'), ('is', 'VBZ'), ('graded', 'VBN'), ('‘', 'IN'), ('A', 'NNP'), ('’', 'NN'), ('by', 'IN'), ('Director', 'NNP'), ('of', 'IN'), ('Technical', 'NNP'), ('Education', 'NNP'), ('(', '('), ('DTE', 'NNP'), (')', ')'), (',', ','), ('Maharashtra', 'NNP'), ('state', 'NN'), ('.', '.'), ('“', 'NN'), ('Scientists', 'NNS'), ('study', 'VBP'), ('the', 'DT'), ('world', 'NN'), ('as', 'IN'), ('it', 'PRP'), ('is', 'VBZ'), (',', ','), ('engineers', 'NNS'), ('create', 'VBP'), ('the', 'DT'), ('world', 'NN'), ('that', 'WDT'), ('never', 'RB'), ('has', 'VBZ'), ('been.', 'VBN'), ('”', 'NNP'), ('—', 'NNP'), ('Theodore', 'NNP'), ('von', 'NNP'), ('Karman', 'NNP'), ('With', 'IN'), ('a', 'DT'), ('very', 'RB'), ('Visionary', 'JJ'), ('Management', 'NNP'), (',', ','), ('Dedicated', 'NNP'), ('Director', 'NNP'), (',', ','), ('and', 'CC'), ('committed', 'VBD'), ('faculty', 'NN'), ('members', 'NNS'), (',', ','), ('entire', 'JJ'), ('PICT', 'NNP'), ('Family', 'NNP'), ('strives', 'VBZ'), ('to', 'TO'), ('nurture', 'VB'), ('the', 'DT'), ('young', 'JJ'), ('inspiring', 'NN'), ('minds', 'NNS'), ('to', 'TO'), ('create', 'VB'), ('avenues', 'NNS'), ('for', 'IN'), ('the', 'DT'), ('wellbeing', 'NN'), ('of', 'IN'), ('the', 'DT'), ('entire', 'JJ'), ('world', 'NN'), ('.', '.'), ('Untiring', 'VBG'), ('and', 'CC'), ('directed', 'VBN'), ('efforts', 'NNS'), ('by', 'IN'), ('PICT', 'NNP'), ('are', 'VBP'), ('focused', 'VBN'), ('on', 'IN'), ('out-come', 'NN'), ('based', 'VBN'), ('education', 'NN'), ('and', 'CC'), ('preparing', 'VBG'), ('them', 'PRP'), ('for', 'IN'), ('the', 'DT'), ('real', 'JJ'), ('world', 'NN'), ('.', '.'), ('The', 'DT'), ('promotive', 'JJ'), ('culture', 'NN'), ('and', 'CC'), ('supportive', 'JJ'), ('ecosystem', 'NN'), ('of', 'IN'), ('PICT', 'NNP'), ('ensures', 'VBZ'), ('excellent', 'JJ'), ('academic', 'JJ'), ('record', 'NN'), ('of', 'IN'), ('the', 'DT'), ('students', 'NNS'), ('and', 'CC'), ('drives', 'VBZ'), ('their', 'PRP$'), ('participation', 'NN'), ('in', 'IN'), ('numerous', 'JJ'), ('Co-Curricular', 'JJ'), ('and', 'CC'), ('Extra-curricular', 'JJ'), ('activities', 'NNS'), ('.', '.'), ('Beginning', 'VBG'), ('with', 'IN'), ('flagship', 'JJ'), ('event', 'NN'), ('of', 'IN'), ('PICT-', 'NNP'), ('Impetus', 'NNP'), ('and', 'CC'), ('Concepts', 'NNP'), (',', ','), ('the', 'DT'), ('student', 'NN'), ('participation', 'NN'), ('extends', 'VBZ'), ('to', 'TO'), ('various', 'JJ'), ('clubs', 'NNS'), ('and', 'CC'), ('special', 'JJ'), ('interest', 'NN'), ('groups', 'NNS'), (',', ','), ('inculcating', 'VBG'), ('team', 'NN'), ('spirit', 'NN'), (',', ','), ('professionalism', 'NN'), (',', ','), ('ethics', 'NNS'), (',', ','), ('values', 'NNS'), ('and', 'CC'), ('self-competitiveness', 'NN'), ('among', 'IN'), ('the', 'DT'), ('students', 'NNS'), (',', ','), ('thus', 'RB'), (',', ','), ('moulding', 'VBG'), ('them', 'PRP'), ('be', 'VB'), ('better', 'JJR'), ('versions', 'NNS'), ('of', 'IN'), ('themselves', 'PRP'), ('.', '.')]\n"
     ]
    }
   ],
   "source": [
    "pos1 = nltk.pos_tag(token1)\n",
    "print(pos1)\n",
    "\n",
    "pos2 = nltk.pos_tag(token2)\n",
    "print(pos2)"
   ]
  },
  {
   "cell_type": "code",
   "execution_count": 42,
   "id": "35450126-be48-4ce8-8d4c-c28184a51ddf",
   "metadata": {},
   "outputs": [
    {
     "name": "stdout",
     "output_type": "stream",
     "text": [
      "['Pune', 'Institute', 'Computer', 'Technology', 'PICT', 'established', '1983', 'group', 'enterprising', 'visionary', 'professionals', 'come', 'long', 'way', 'marched', 'ahead', 'quality', 'education', 'imbibed', 'professional', 'ethical', 'values', 'mission', 'sought-after', 'institute', 'Engineering', 'education', 'research', 'provides', 'relevant', 'knowledge', 'creates', 'challenging', 'opportunities', 'inculcate', 'values', 'social', 'responsibilities', 'Pune', 'Institute', 'Computer', 'Technology', 'cut', 'niche', 'one', 'India', '’', 'leading', 'institutions', 'higher', 'Technical', 'Education', 'Research', 'International', 'repute', 'celebrate', 'illustrious', 'accomplishments', 'past', 'take', 'pride', 'position', 'one', 'top', 'institutions', 'country', 'PICT', 'talent', 'ambitions', 'come', 'together', 'culture', 'nourishes', 'thinking', 'encourages', 'every', 'student', 'reach', 'full', 'potential', 'Life', 'PICT', 'much', 'regular', 'academic', 'activities', 'PICT', 'campus', 'technically', 'vibrant', 'lot', 'activities', 'throughout', 'year', 'supported', 'professional', 'societies', 'like', 'IEEE', 'ACM', 'CSI', 'IET', 'Additionally', 'clubs/groups', 'like', 'ROBOCON', 'DRONE', 'SIGs', 'BUDDYs', 'Automobile', 'electric', 'Racing', 'Cart', 'Debate', 'TEDx', 'MUN', 'etc', 'PICT', 'art', 'circle', 'one', 'top', 'cultural', 'groups', 'known', 'talents', 'achievements', 'activities', 'include', 'limited', 'Art', 'Drama', 'Debate', 'Dance', 'Singing', 'quizzes', 'students', 'bagged', 'many', 'prestigious', 'awards', 'prizes', 'medals', 'technical', 'sports', 'cultural', 'events', 'like', 'Microsoft', 'Imagine', 'Cup', 'Hackathons', 'Robocon', 'Purushottam', 'Karandak', 'Firodiya', 'Karandak', 'students', 'PICT', 'top', 'achievers', 'big', 'dreams', 'fierce', 'drive', 'pushed', 'expand', 'thinking', 'professors', 'also', 'extraordinary', 'individuals', 'peers', 'wish', 'student', 'entering', 'institute', 'become', 'holistic', 'responsible', 'person', 'contributing', 'technocratic', 'demands', 'world', 'also', 'betterment', 'society', 'PICT', 'offers', 'three', 'under-graduate', 'programs', 'Computer', 'Engineering', 'Electronics', 'Telecommunication', 'Engineering', 'Information', 'Technology', 'four', 'post-graduate', 'programs', 'Computer', 'Engineering', 'Data', 'Science', 'Electronics', 'Telecommunication', 'Engineering', 'Wireless', 'Communication', 'Technology', 'Information', 'Technology', 'also', 'Savitribai', 'Phule', 'Pune', 'University', 'recognized', 'research', 'center', 'Computer', 'Engineering', 'Electronics', 'Telecommunication', 'Engineering']\n",
      "['gives', 'immense', 'pleasure', 'welcoming', 'SCTR', '’', 'Pune', 'Institute', 'Computer', 'Technology', 'premier', 'reputed', 'institute', 'Pune', 'Institute', 'Computer', 'Technology', 'popularly', 'known', 'PICT', 'established', '1983', 'group', 'great', 'visionaries', 'Late', 'Mr.', 'Dr.', 'N.', 'Gopalkrishnan', 'Mr.', 'N.', 'Rama', 'Krishnan', 'Managing', 'Trustee', 'Mr.', 'Rajkumar', 'Kothavale', 'ingenious', 'founder', 'team', 'Secretary', 'Mr.', 'Swastik', 'Sir', 'continue', 'lead', 'PICT', 'journey', 'excellence', 'PICT', 'affiliated', 'Savitribai', 'Phule', 'Pune', 'University', 'pioneer', 'introducing', 'Computer', 'Engineering', 'undergraduate', 'program', 'Maharashtra', 'state', 'recognized', 'sought-after', 'institution', 'educate', 'young', 'aspiring', 'minds', 'PICT', 'offers', 'Quality', 'Education', 'Engineering', 'Research', 'undergraduate', 'post', 'graduate', 'programs', 'CE', 'E', 'TC', 'research', 'centres', 'CE', 'E', 'TC', 'department', 'undergraduate', 'programmes', 'consistently', 'accredited', 'National', 'Board', 'Accreditation', 'NBA', 'institution', 'also', 'accredited', 'National', 'Assessment', 'Accreditation', 'Council', 'NAAC', 'ISO', '9001:2015', 'certified', 'graded', '‘', '’', 'Director', 'Technical', 'Education', 'DTE', 'Maharashtra', 'state', '“', 'Scientists', 'study', 'world', 'engineers', 'create', 'world', 'never', 'been.', '”', '—', 'Theodore', 'von', 'Karman', 'Visionary', 'Management', 'Dedicated', 'Director', 'committed', 'faculty', 'members', 'entire', 'PICT', 'Family', 'strives', 'nurture', 'young', 'inspiring', 'minds', 'create', 'avenues', 'wellbeing', 'entire', 'world', 'Untiring', 'directed', 'efforts', 'PICT', 'focused', 'out-come', 'based', 'education', 'preparing', 'real', 'world', 'promotive', 'culture', 'supportive', 'ecosystem', 'PICT', 'ensures', 'excellent', 'academic', 'record', 'students', 'drives', 'participation', 'numerous', 'Co-Curricular', 'Extra-curricular', 'activities', 'Beginning', 'flagship', 'event', 'PICT-', 'Impetus', 'Concepts', 'student', 'participation', 'extends', 'various', 'clubs', 'special', 'interest', 'groups', 'inculcating', 'team', 'spirit', 'professionalism', 'ethics', 'values', 'self-competitiveness', 'among', 'students', 'thus', 'moulding', 'better', 'versions']\n"
     ]
    }
   ],
   "source": [
    "stop_words = set(stopwords.words('english'))\n",
    "filtertoken1 = [word for word in token1 if word.lower() not in stop_words]\n",
    "fftoken1 = [word for word in filtertoken1 if word.lower() not in string.punctuation]\n",
    "print(fftoken1)\n",
    "\n",
    "filtertoken2 = [word for word in token2 if word.lower() not in stop_words]\n",
    "fftoken2 = [word for word in filtertoken2 if word.lower() not in string.punctuation]\n",
    "print(fftoken2)"
   ]
  },
  {
   "cell_type": "code",
   "execution_count": 43,
   "id": "573a4cc3-ce74-43fc-a2af-c8509dc36dcd",
   "metadata": {},
   "outputs": [
    {
     "name": "stdout",
     "output_type": "stream",
     "text": [
      "['pune', 'institut', 'comput', 'technolog', 'pict', 'establish', '1983', 'group', 'enterpris', 'visionari', 'profession', 'come', 'long', 'way', 'march', 'ahead', 'qualiti', 'educ', 'imbib', 'profession', 'ethic', 'valu', 'mission', 'sought-aft', 'institut', 'engin', 'educ', 'research', 'provid', 'relev', 'knowledg', 'creat', 'challeng', 'opportun', 'inculc', 'valu', 'social', 'respons', 'pune', 'institut', 'comput', 'technolog', 'cut', 'nich', 'one', 'india', '’', 'lead', 'institut', 'higher', 'technic', 'educ', 'research', 'intern', 'reput', 'celebr', 'illustri', 'accomplish', 'past', 'take', 'pride', 'posit', 'one', 'top', 'institut', 'countri', 'pict', 'talent', 'ambit', 'come', 'togeth', 'cultur', 'nourish', 'think', 'encourag', 'everi', 'student', 'reach', 'full', 'potenti', 'life', 'pict', 'much', 'regular', 'academ', 'activ', 'pict', 'campu', 'technic', 'vibrant', 'lot', 'activ', 'throughout', 'year', 'support', 'profession', 'societi', 'like', 'ieee', 'acm', 'csi', 'iet', 'addit', 'clubs/group', 'like', 'robocon', 'drone', 'sig', 'buddi', 'automobil', 'electr', 'race', 'cart', 'debat', 'tedx', 'mun', 'etc', 'pict', 'art', 'circl', 'one', 'top', 'cultur', 'group', 'known', 'talent', 'achiev', 'activ', 'includ', 'limit', 'art', 'drama', 'debat', 'danc', 'sing', 'quizz', 'student', 'bag', 'mani', 'prestigi', 'award', 'prize', 'medal', 'technic', 'sport', 'cultur', 'event', 'like', 'microsoft', 'imagin', 'cup', 'hackathon', 'robocon', 'purushottam', 'karandak', 'firodiya', 'karandak', 'student', 'pict', 'top', 'achiev', 'big', 'dream', 'fierc', 'drive', 'push', 'expand', 'think', 'professor', 'also', 'extraordinari', 'individu', 'peer', 'wish', 'student', 'enter', 'institut', 'becom', 'holist', 'respons', 'person', 'contribut', 'technocrat', 'demand', 'world', 'also', 'better', 'societi', 'pict', 'offer', 'three', 'under-gradu', 'program', 'comput', 'engin', 'electron', 'telecommun', 'engin', 'inform', 'technolog', 'four', 'post-gradu', 'program', 'comput', 'engin', 'data', 'scienc', 'electron', 'telecommun', 'engin', 'wireless', 'commun', 'technolog', 'inform', 'technolog', 'also', 'savitribai', 'phule', 'pune', 'univers', 'recogn', 'research', 'center', 'comput', 'engin', 'electron', 'telecommun', 'engin']\n",
      "['give', 'immens', 'pleasur', 'welcom', 'sctr', '’', 'pune', 'institut', 'comput', 'technolog', 'premier', 'reput', 'institut', 'pune', 'institut', 'comput', 'technolog', 'popularli', 'known', 'pict', 'establish', '1983', 'group', 'great', 'visionari', 'late', 'mr.', 'dr.', 'n.', 'gopalkrishnan', 'mr.', 'n.', 'rama', 'krishnan', 'manag', 'truste', 'mr.', 'rajkumar', 'kothaval', 'ingeni', 'founder', 'team', 'secretari', 'mr.', 'swastik', 'sir', 'continu', 'lead', 'pict', 'journey', 'excel', 'pict', 'affili', 'savitribai', 'phule', 'pune', 'univers', 'pioneer', 'introduc', 'comput', 'engin', 'undergradu', 'program', 'maharashtra', 'state', 'recogn', 'sought-aft', 'institut', 'educ', 'young', 'aspir', 'mind', 'pict', 'offer', 'qualiti', 'educ', 'engin', 'research', 'undergradu', 'post', 'graduat', 'program', 'ce', 'e', 'tc', 'research', 'centr', 'ce', 'e', 'tc', 'depart', 'undergradu', 'programm', 'consist', 'accredit', 'nation', 'board', 'accredit', 'nba', 'institut', 'also', 'accredit', 'nation', 'assess', 'accredit', 'council', 'naac', 'iso', '9001:2015', 'certifi', 'grade', '‘', '’', 'director', 'technic', 'educ', 'dte', 'maharashtra', 'state', '“', 'scientist', 'studi', 'world', 'engin', 'creat', 'world', 'never', 'been.', '”', '—', 'theodor', 'von', 'karman', 'visionari', 'manag', 'dedic', 'director', 'commit', 'faculti', 'member', 'entir', 'pict', 'famili', 'strive', 'nurtur', 'young', 'inspir', 'mind', 'creat', 'avenu', 'wellb', 'entir', 'world', 'untir', 'direct', 'effort', 'pict', 'focus', 'out-com', 'base', 'educ', 'prepar', 'real', 'world', 'promot', 'cultur', 'support', 'ecosystem', 'pict', 'ensur', 'excel', 'academ', 'record', 'student', 'drive', 'particip', 'numer', 'co-curricular', 'extra-curricular', 'activ', 'begin', 'flagship', 'event', 'pict-', 'impetu', 'concept', 'student', 'particip', 'extend', 'variou', 'club', 'special', 'interest', 'group', 'inculc', 'team', 'spirit', 'profession', 'ethic', 'valu', 'self-competit', 'among', 'student', 'thu', 'mould', 'better', 'version']\n"
     ]
    }
   ],
   "source": [
    "porter1 = PorterStemmer()\n",
    "stemmed_words1 = [porter1.stem(word) for word in fftoken1]\n",
    "print(stemmed_words1)\n",
    "\n",
    "porter2 = PorterStemmer()\n",
    "stemmed_words2 = [porter2.stem(word) for word in fftoken2]\n",
    "print(stemmed_words2)"
   ]
  },
  {
   "cell_type": "code",
   "execution_count": 44,
   "id": "7bd7c08f-6cf5-43cf-bc23-cff8442dafae",
   "metadata": {
    "scrolled": true
   },
   "outputs": [
    {
     "name": "stdout",
     "output_type": "stream",
     "text": [
      "['Pune', 'Institute', 'Computer', 'Technology', 'PICT', 'established', '1983', 'group', 'enterprising', 'visionary', 'professional', 'come', 'long', 'way', 'marched', 'ahead', 'quality', 'education', 'imbibed', 'professional', 'ethical', 'value', 'mission', 'sought-after', 'institute', 'Engineering', 'education', 'research', 'provides', 'relevant', 'knowledge', 'creates', 'challenging', 'opportunity', 'inculcate', 'value', 'social', 'responsibility', 'Pune', 'Institute', 'Computer', 'Technology', 'cut', 'niche', 'one', 'India', '’', 'leading', 'institution', 'higher', 'Technical', 'Education', 'Research', 'International', 'repute', 'celebrate', 'illustrious', 'accomplishment', 'past', 'take', 'pride', 'position', 'one', 'top', 'institution', 'country', 'PICT', 'talent', 'ambition', 'come', 'together', 'culture', 'nourishes', 'thinking', 'encourages', 'every', 'student', 'reach', 'full', 'potential', 'Life', 'PICT', 'much', 'regular', 'academic', 'activity', 'PICT', 'campus', 'technically', 'vibrant', 'lot', 'activity', 'throughout', 'year', 'supported', 'professional', 'society', 'like', 'IEEE', 'ACM', 'CSI', 'IET', 'Additionally', 'clubs/groups', 'like', 'ROBOCON', 'DRONE', 'SIGs', 'BUDDYs', 'Automobile', 'electric', 'Racing', 'Cart', 'Debate', 'TEDx', 'MUN', 'etc', 'PICT', 'art', 'circle', 'one', 'top', 'cultural', 'group', 'known', 'talent', 'achievement', 'activity', 'include', 'limited', 'Art', 'Drama', 'Debate', 'Dance', 'Singing', 'quiz', 'student', 'bagged', 'many', 'prestigious', 'award', 'prize', 'medal', 'technical', 'sport', 'cultural', 'event', 'like', 'Microsoft', 'Imagine', 'Cup', 'Hackathons', 'Robocon', 'Purushottam', 'Karandak', 'Firodiya', 'Karandak', 'student', 'PICT', 'top', 'achiever', 'big', 'dream', 'fierce', 'drive', 'pushed', 'expand', 'thinking', 'professor', 'also', 'extraordinary', 'individual', 'peer', 'wish', 'student', 'entering', 'institute', 'become', 'holistic', 'responsible', 'person', 'contributing', 'technocratic', 'demand', 'world', 'also', 'betterment', 'society', 'PICT', 'offer', 'three', 'under-graduate', 'program', 'Computer', 'Engineering', 'Electronics', 'Telecommunication', 'Engineering', 'Information', 'Technology', 'four', 'post-graduate', 'program', 'Computer', 'Engineering', 'Data', 'Science', 'Electronics', 'Telecommunication', 'Engineering', 'Wireless', 'Communication', 'Technology', 'Information', 'Technology', 'also', 'Savitribai', 'Phule', 'Pune', 'University', 'recognized', 'research', 'center', 'Computer', 'Engineering', 'Electronics', 'Telecommunication', 'Engineering']\n",
      "['Pune', 'Institute', 'Computer', 'Technology', 'PICT', 'established', '1983', 'group', 'enterprising', 'visionary', 'professional', 'come', 'long', 'way', 'marched', 'ahead', 'quality', 'education', 'imbibed', 'professional', 'ethical', 'value', 'mission', 'sought-after', 'institute', 'Engineering', 'education', 'research', 'provides', 'relevant', 'knowledge', 'creates', 'challenging', 'opportunity', 'inculcate', 'value', 'social', 'responsibility', 'Pune', 'Institute', 'Computer', 'Technology', 'cut', 'niche', 'one', 'India', '’', 'leading', 'institution', 'higher', 'Technical', 'Education', 'Research', 'International', 'repute', 'celebrate', 'illustrious', 'accomplishment', 'past', 'take', 'pride', 'position', 'one', 'top', 'institution', 'country', 'PICT', 'talent', 'ambition', 'come', 'together', 'culture', 'nourishes', 'thinking', 'encourages', 'every', 'student', 'reach', 'full', 'potential', 'Life', 'PICT', 'much', 'regular', 'academic', 'activity', 'PICT', 'campus', 'technically', 'vibrant', 'lot', 'activity', 'throughout', 'year', 'supported', 'professional', 'society', 'like', 'IEEE', 'ACM', 'CSI', 'IET', 'Additionally', 'clubs/groups', 'like', 'ROBOCON', 'DRONE', 'SIGs', 'BUDDYs', 'Automobile', 'electric', 'Racing', 'Cart', 'Debate', 'TEDx', 'MUN', 'etc', 'PICT', 'art', 'circle', 'one', 'top', 'cultural', 'group', 'known', 'talent', 'achievement', 'activity', 'include', 'limited', 'Art', 'Drama', 'Debate', 'Dance', 'Singing', 'quiz', 'student', 'bagged', 'many', 'prestigious', 'award', 'prize', 'medal', 'technical', 'sport', 'cultural', 'event', 'like', 'Microsoft', 'Imagine', 'Cup', 'Hackathons', 'Robocon', 'Purushottam', 'Karandak', 'Firodiya', 'Karandak', 'student', 'PICT', 'top', 'achiever', 'big', 'dream', 'fierce', 'drive', 'pushed', 'expand', 'thinking', 'professor', 'also', 'extraordinary', 'individual', 'peer', 'wish', 'student', 'entering', 'institute', 'become', 'holistic', 'responsible', 'person', 'contributing', 'technocratic', 'demand', 'world', 'also', 'betterment', 'society', 'PICT', 'offer', 'three', 'under-graduate', 'program', 'Computer', 'Engineering', 'Electronics', 'Telecommunication', 'Engineering', 'Information', 'Technology', 'four', 'post-graduate', 'program', 'Computer', 'Engineering', 'Data', 'Science', 'Electronics', 'Telecommunication', 'Engineering', 'Wireless', 'Communication', 'Technology', 'Information', 'Technology', 'also', 'Savitribai', 'Phule', 'Pune', 'University', 'recognized', 'research', 'center', 'Computer', 'Engineering', 'Electronics', 'Telecommunication', 'Engineering']\n"
     ]
    }
   ],
   "source": [
    "lemmatizer1 = WordNetLemmatizer()\n",
    "lemmatized_words1 = [lemmatizer.lemmatize(word) for word in fftoken1]\n",
    "print(lemmatized_words)\n",
    "\n",
    "lemmatizer2 = WordNetLemmatizer()\n",
    "lemmatized_words2 = [lemmatizer.lemmatize(word) for word in fftoken1]\n",
    "print(lemmatized_words2)"
   ]
  },
  {
   "cell_type": "code",
   "execution_count": 61,
   "id": "cfae66d8-00bd-437a-abfc-2f3a85c3db8d",
   "metadata": {},
   "outputs": [
    {
     "name": "stdout",
     "output_type": "stream",
     "text": [
      "                 Document 0  Document 1\n",
      "1983               0.023787    0.026154\n",
      "2015               0.000000    0.036759\n",
      "9001               0.000000    0.036759\n",
      "academic           0.023787    0.026154\n",
      "accomplishments    0.033431    0.000000\n",
      "...                     ...         ...\n",
      "with               0.095147    0.052309\n",
      "world              0.023787    0.104618\n",
      "year               0.033431    0.000000\n",
      "you                0.000000    0.036759\n",
      "young              0.000000    0.073518\n",
      "\n",
      "[338 rows x 2 columns]\n"
     ]
    }
   ],
   "source": [
    "# Create corpus\n",
    "corpus = [text1, text2]\n",
    "\n",
    "# Initialize TF-IDF Vectorizer\n",
    "tfidf_vectorizer = TfidfVectorizer()\n",
    "\n",
    "# Fit and transform the corpus\n",
    "tfidf_matrix = tfidf_vectorizer.fit_transform(corpus)\n",
    "\n",
    "# Convert the TF-IDF matrix into a DataFrame\n",
    "tfidf_df = pd.DataFrame(tfidf_matrix.toarray(), columns=tfidf_vectorizer.get_feature_names_out())\n",
    "\n",
    "tfidf_df_T = tfidf_df.transpose()\n",
    "\n",
    "# Rename columns for clarity\n",
    "tfidf_df_T.columns = ['Document 0', 'Document 1']\n",
    "\n",
    "# Display\n",
    "print(tfidf_df_T)"
   ]
  },
  {
   "cell_type": "code",
   "execution_count": 69,
   "id": "027c26a3-eaa7-43c0-b89a-2aecf42333a7",
   "metadata": {},
   "outputs": [
    {
     "name": "stdout",
     "output_type": "stream",
     "text": [
      "               Document 0  Document 1\n",
      "1983              0.00000    0.000000\n",
      "9001:2015         0.00000    0.003349\n",
      "ACM               0.00304    0.000000\n",
      "Accreditation     0.00000    0.006697\n",
      "Additionally      0.00304    0.000000\n",
      "...                   ...         ...\n",
      "—                 0.00000    0.003349\n",
      "‘                 0.00000    0.003349\n",
      "’                 0.00000    0.000000\n",
      "“                 0.00000    0.003349\n",
      "”                 0.00000    0.003349\n",
      "\n",
      "[309 rows x 2 columns]\n"
     ]
    }
   ],
   "source": [
    "from collections import Counter\n",
    "\n",
    "doc1_tokens = fftoken1\n",
    "doc2_tokens = fftoken2\n",
    "documents = [doc1_tokens, doc2_tokens]\n",
    "N = len(documents)\n",
    "\n",
    "vocab = sorted(set(word for doc in documents for word in doc))\n",
    "\n",
    "# Step 4: Calculate Term Frequency (TF)\n",
    "tf_list = []\n",
    "for doc in documents:\n",
    "    tf = Counter(doc)\n",
    "    total_terms = len(doc)\n",
    "    tf_normalized = {word: tf[word]/total_terms for word in vocab}\n",
    "    tf_list.append(tf_normalized)\n",
    "\n",
    "# Step 5: Calculate Document Frequency (DF) and IDF\n",
    "df = {word: sum(word in doc for doc in documents) for word in vocab}\n",
    "idf = {word: math.log(N / df[word]) for word in vocab}\n",
    "\n",
    "# Step 6: Calculate TF-IDF\n",
    "tfidf_list = []\n",
    "for tf in tf_list:\n",
    "    tfidf = {word: tf[word] * idf[word] for word in vocab}\n",
    "    tfidf_list.append(tfidf)\n",
    "\n",
    "# Step 7: Convert to DataFrame\n",
    "tfidf_df = pd.DataFrame(tfidf_list, columns=vocab).transpose()\n",
    "\n",
    "# Rename columns like earlier\n",
    "tfidf_df.columns = ['Document 0', 'Document 1']\n",
    "\n",
    "# Step 8: Display\n",
    "print(tfidf_df)"
   ]
  },
  {
   "cell_type": "code",
   "execution_count": null,
   "id": "1a3fd276-94be-42ed-b589-5f56e978b19e",
   "metadata": {},
   "outputs": [],
   "source": []
  }
 ],
 "metadata": {
  "kernelspec": {
   "display_name": "Python 3 (ipykernel)",
   "language": "python",
   "name": "python3"
  },
  "language_info": {
   "codemirror_mode": {
    "name": "ipython",
    "version": 3
   },
   "file_extension": ".py",
   "mimetype": "text/x-python",
   "name": "python",
   "nbconvert_exporter": "python",
   "pygments_lexer": "ipython3",
   "version": "3.10.5"
  }
 },
 "nbformat": 4,
 "nbformat_minor": 5
}
